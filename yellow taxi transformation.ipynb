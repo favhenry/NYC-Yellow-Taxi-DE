{
 "cells": [
  {
   "cell_type": "code",
   "execution_count": 2,
   "id": "5ed150e1",
   "metadata": {},
   "outputs": [
    {
     "name": "stdout",
     "output_type": "stream",
     "text": [
      "Requirement already satisfied: pandas in c:\\users\\hp\\anaconda3\\lib\\site-packages (1.4.4)\n",
      "Requirement already satisfied: python-dateutil>=2.8.1 in c:\\users\\hp\\anaconda3\\lib\\site-packages (from pandas) (2.8.2)\n",
      "Requirement already satisfied: numpy>=1.18.5 in c:\\users\\hp\\anaconda3\\lib\\site-packages (from pandas) (1.21.5)\n",
      "Requirement already satisfied: pytz>=2020.1 in c:\\users\\hp\\anaconda3\\lib\\site-packages (from pandas) (2022.1)\n",
      "Requirement already satisfied: six>=1.5 in c:\\users\\hp\\anaconda3\\lib\\site-packages (from python-dateutil>=2.8.1->pandas) (1.16.0)\n"
     ]
    },
    {
     "name": "stderr",
     "output_type": "stream",
     "text": [
      "WARNING: There was an error checking the latest version of pip.\n"
     ]
    }
   ],
   "source": [
    "!pip install pandas \n"
   ]
  },
  {
   "cell_type": "code",
   "execution_count": 4,
   "id": "fe3a05aa",
   "metadata": {},
   "outputs": [
    {
     "name": "stdout",
     "output_type": "stream",
     "text": [
      "Requirement already satisfied: pip in c:\\users\\hp\\anaconda3\\lib\\site-packages (22.2.2)"
     ]
    },
    {
     "name": "stderr",
     "output_type": "stream",
     "text": [
      "WARNING: There was an error checking the latest version of pip.\n"
     ]
    },
    {
     "name": "stdout",
     "output_type": "stream",
     "text": [
      "\n",
      "Collecting pip\n",
      "  Downloading pip-24.3.1-py3-none-any.whl (1.8 MB)\n",
      "     ---------------------------------------- 1.8/1.8 MB 1.3 MB/s eta 0:00:00\n",
      "Installing collected packages: pip\n",
      "  Attempting uninstall: pip\n",
      "    Found existing installation: pip 22.2.2\n",
      "    Uninstalling pip-22.2.2:\n",
      "      Successfully uninstalled pip-22.2.2\n",
      "Successfully installed pip-24.3.1\n"
     ]
    }
   ],
   "source": [
    "!python -m pip install --upgrade pip\n"
   ]
  },
  {
   "cell_type": "code",
   "execution_count": 5,
   "id": "d4074d3d",
   "metadata": {},
   "outputs": [
    {
     "name": "stdout",
     "output_type": "stream",
     "text": [
      "Collecting pyarrow\n",
      "  Downloading pyarrow-18.1.0-cp39-cp39-win_amd64.whl.metadata (3.4 kB)\n",
      "Downloading pyarrow-18.1.0-cp39-cp39-win_amd64.whl (25.3 MB)\n",
      "   ---------------------------------------- 25.3/25.3 MB 1.5 MB/s eta 0:00:00\n",
      "Installing collected packages: pyarrow\n",
      "Successfully installed pyarrow-18.1.0\n"
     ]
    }
   ],
   "source": [
    "!pip install pyarrow"
   ]
  },
  {
   "cell_type": "code",
   "execution_count": 6,
   "id": "811ae11a",
   "metadata": {},
   "outputs": [],
   "source": [
    "import pandas as pd\n",
    "\n",
    "# Read Parquet file\n",
    "df_yellow_jan23 = pd.read_parquet(r'C:\\Users\\HP\\Downloads\\yellow_tripdata_2023-01.parquet', engine='pyarrow')  \n",
    "# Read Parquet file\n",
    "df_yellow_dec23 = pd.read_parquet(r'C:\\Users\\HP\\Downloads\\yellow_tripdata_2023-12.parquet', engine='pyarrow') "
   ]
  },
  {
   "cell_type": "code",
   "execution_count": 7,
   "id": "d1423223",
   "metadata": {},
   "outputs": [],
   "source": [
    "# Rename the column in one dataset (example: renaming in the December dataset)\n",
    "df_yellow_dec23 = df_yellow_dec23.rename(columns={\"Airport_fee\": \"airport_fee\"})"
   ]
  },
  {
   "cell_type": "code",
   "execution_count": 8,
   "id": "a1cfa7ee",
   "metadata": {},
   "outputs": [],
   "source": [
    "# Combine datasets\n",
    "combined_df_yellow = pd.concat([df_yellow_jan23, df_yellow_dec23], ignore_index=True)"
   ]
  },
  {
   "cell_type": "code",
   "execution_count": 9,
   "id": "f0c03b15",
   "metadata": {},
   "outputs": [],
   "source": [
    "combined_df_yellow2 = combined_df_yellow.drop_duplicates().reset_index(drop=True)"
   ]
  },
  {
   "cell_type": "code",
   "execution_count": 10,
   "id": "2740a6cc",
   "metadata": {},
   "outputs": [],
   "source": [
    "import pandas as pd\n",
    "\n",
    "def create_datetime_dim(data, pickup_col, dropoff_col):\n",
    "    \"\"\"\n",
    "    Creates a datetime dimension DataFrame from the given dataset.\n",
    "\n",
    "    Parameters:\n",
    "    - data (pd.DataFrame): The input dataset containing datetime columns.\n",
    "    - pickup_col (str): The name of the pickup datetime column.\n",
    "    - dropoff_col (str): The name of the dropoff datetime column.\n",
    "\n",
    "    Returns:\n",
    "    - pd.DataFrame: A DataFrame with datetime components extracted for both pickup and dropoff datetimes.\n",
    "    \"\"\"\n",
    "    datetime_dim = data[[pickup_col, dropoff_col]].drop_duplicates().reset_index(drop=True)\n",
    "    \n",
    "    # Extract datetime components for the pickup datetime\n",
    "    datetime_dim['pick_hour'] = datetime_dim[pickup_col].dt.hour\n",
    "    datetime_dim['pick_day'] = datetime_dim[pickup_col].dt.day\n",
    "    datetime_dim['pick_month'] = datetime_dim[pickup_col].dt.month\n",
    "    datetime_dim['pick_year'] = datetime_dim[pickup_col].dt.year\n",
    "    datetime_dim['pick_weekday'] = datetime_dim[pickup_col].dt.weekday\n",
    "    datetime_dim['pick_quarter'] = datetime_dim[pickup_col].dt.quarter\n",
    "\n",
    "    # Extract datetime components for the dropoff datetime\n",
    "    datetime_dim['drop_hour'] = datetime_dim[dropoff_col].dt.hour\n",
    "    datetime_dim['drop_day'] = datetime_dim[dropoff_col].dt.day\n",
    "    datetime_dim['drop_month'] = datetime_dim[dropoff_col].dt.month\n",
    "    datetime_dim['drop_year'] = datetime_dim[dropoff_col].dt.year\n",
    "    datetime_dim['drop_weekday'] = datetime_dim[dropoff_col].dt.weekday\n",
    "    datetime_dim['drop_quarter'] = datetime_dim[dropoff_col].dt.quarter\n",
    "\n",
    "    return datetime_dim\n"
   ]
  },
  {
   "cell_type": "code",
   "execution_count": 11,
   "id": "8bab791a",
   "metadata": {},
   "outputs": [
    {
     "data": {
      "text/html": [
       "<div>\n",
       "<style scoped>\n",
       "    .dataframe tbody tr th:only-of-type {\n",
       "        vertical-align: middle;\n",
       "    }\n",
       "\n",
       "    .dataframe tbody tr th {\n",
       "        vertical-align: top;\n",
       "    }\n",
       "\n",
       "    .dataframe thead th {\n",
       "        text-align: right;\n",
       "    }\n",
       "</style>\n",
       "<table border=\"1\" class=\"dataframe\">\n",
       "  <thead>\n",
       "    <tr style=\"text-align: right;\">\n",
       "      <th></th>\n",
       "      <th>datetime_id</th>\n",
       "      <th>tpep_pickup_datetime</th>\n",
       "      <th>pick_hour</th>\n",
       "      <th>pick_day</th>\n",
       "      <th>pick_month</th>\n",
       "      <th>pick_year</th>\n",
       "      <th>pick_weekday</th>\n",
       "      <th>pick_quarter</th>\n",
       "      <th>tpep_dropoff_datetime</th>\n",
       "      <th>drop_hour</th>\n",
       "      <th>drop_day</th>\n",
       "      <th>drop_month</th>\n",
       "      <th>drop_year</th>\n",
       "      <th>drop_weekday</th>\n",
       "      <th>drop_quarter</th>\n",
       "    </tr>\n",
       "  </thead>\n",
       "  <tbody>\n",
       "    <tr>\n",
       "      <th>0</th>\n",
       "      <td>0</td>\n",
       "      <td>2023-01-01 00:32:10</td>\n",
       "      <td>0</td>\n",
       "      <td>1</td>\n",
       "      <td>1</td>\n",
       "      <td>2023</td>\n",
       "      <td>6</td>\n",
       "      <td>1</td>\n",
       "      <td>2023-01-01 00:40:36</td>\n",
       "      <td>0</td>\n",
       "      <td>1</td>\n",
       "      <td>1</td>\n",
       "      <td>2023</td>\n",
       "      <td>6</td>\n",
       "      <td>1</td>\n",
       "    </tr>\n",
       "    <tr>\n",
       "      <th>1</th>\n",
       "      <td>1</td>\n",
       "      <td>2023-01-01 00:55:08</td>\n",
       "      <td>0</td>\n",
       "      <td>1</td>\n",
       "      <td>1</td>\n",
       "      <td>2023</td>\n",
       "      <td>6</td>\n",
       "      <td>1</td>\n",
       "      <td>2023-01-01 01:01:27</td>\n",
       "      <td>1</td>\n",
       "      <td>1</td>\n",
       "      <td>1</td>\n",
       "      <td>2023</td>\n",
       "      <td>6</td>\n",
       "      <td>1</td>\n",
       "    </tr>\n",
       "    <tr>\n",
       "      <th>2</th>\n",
       "      <td>2</td>\n",
       "      <td>2023-01-01 00:25:04</td>\n",
       "      <td>0</td>\n",
       "      <td>1</td>\n",
       "      <td>1</td>\n",
       "      <td>2023</td>\n",
       "      <td>6</td>\n",
       "      <td>1</td>\n",
       "      <td>2023-01-01 00:37:49</td>\n",
       "      <td>0</td>\n",
       "      <td>1</td>\n",
       "      <td>1</td>\n",
       "      <td>2023</td>\n",
       "      <td>6</td>\n",
       "      <td>1</td>\n",
       "    </tr>\n",
       "    <tr>\n",
       "      <th>3</th>\n",
       "      <td>3</td>\n",
       "      <td>2023-01-01 00:03:48</td>\n",
       "      <td>0</td>\n",
       "      <td>1</td>\n",
       "      <td>1</td>\n",
       "      <td>2023</td>\n",
       "      <td>6</td>\n",
       "      <td>1</td>\n",
       "      <td>2023-01-01 00:13:25</td>\n",
       "      <td>0</td>\n",
       "      <td>1</td>\n",
       "      <td>1</td>\n",
       "      <td>2023</td>\n",
       "      <td>6</td>\n",
       "      <td>1</td>\n",
       "    </tr>\n",
       "    <tr>\n",
       "      <th>4</th>\n",
       "      <td>4</td>\n",
       "      <td>2023-01-01 00:10:29</td>\n",
       "      <td>0</td>\n",
       "      <td>1</td>\n",
       "      <td>1</td>\n",
       "      <td>2023</td>\n",
       "      <td>6</td>\n",
       "      <td>1</td>\n",
       "      <td>2023-01-01 00:21:19</td>\n",
       "      <td>0</td>\n",
       "      <td>1</td>\n",
       "      <td>1</td>\n",
       "      <td>2023</td>\n",
       "      <td>6</td>\n",
       "      <td>1</td>\n",
       "    </tr>\n",
       "  </tbody>\n",
       "</table>\n",
       "</div>"
      ],
      "text/plain": [
       "   datetime_id tpep_pickup_datetime  pick_hour  pick_day  pick_month  \\\n",
       "0            0  2023-01-01 00:32:10          0         1           1   \n",
       "1            1  2023-01-01 00:55:08          0         1           1   \n",
       "2            2  2023-01-01 00:25:04          0         1           1   \n",
       "3            3  2023-01-01 00:03:48          0         1           1   \n",
       "4            4  2023-01-01 00:10:29          0         1           1   \n",
       "\n",
       "   pick_year  pick_weekday  pick_quarter tpep_dropoff_datetime  drop_hour  \\\n",
       "0       2023             6             1   2023-01-01 00:40:36          0   \n",
       "1       2023             6             1   2023-01-01 01:01:27          1   \n",
       "2       2023             6             1   2023-01-01 00:37:49          0   \n",
       "3       2023             6             1   2023-01-01 00:13:25          0   \n",
       "4       2023             6             1   2023-01-01 00:21:19          0   \n",
       "\n",
       "   drop_day  drop_month  drop_year  drop_weekday  drop_quarter  \n",
       "0         1           1       2023             6             1  \n",
       "1         1           1       2023             6             1  \n",
       "2         1           1       2023             6             1  \n",
       "3         1           1       2023             6             1  \n",
       "4         1           1       2023             6             1  "
      ]
     },
     "execution_count": 11,
     "metadata": {},
     "output_type": "execute_result"
    }
   ],
   "source": [
    "datetime_dim_y = create_datetime_dim(combined_df_yellow2, 'tpep_pickup_datetime', 'tpep_dropoff_datetime')\n",
    "datetime_dim_y['datetime_id'] = datetime_dim_y.index\n",
    "datetime_dim_y = datetime_dim_y[['datetime_id', 'tpep_pickup_datetime', 'pick_hour', 'pick_day', 'pick_month', 'pick_year', 'pick_weekday','pick_quarter',\n",
    "                             'tpep_dropoff_datetime', 'drop_hour', 'drop_day', 'drop_month', 'drop_year', 'drop_weekday','drop_quarter']]\n",
    "datetime_dim_y.head()"
   ]
  },
  {
   "cell_type": "code",
   "execution_count": 12,
   "id": "58f85843",
   "metadata": {},
   "outputs": [
    {
     "data": {
      "text/html": [
       "<div>\n",
       "<style scoped>\n",
       "    .dataframe tbody tr th:only-of-type {\n",
       "        vertical-align: middle;\n",
       "    }\n",
       "\n",
       "    .dataframe tbody tr th {\n",
       "        vertical-align: top;\n",
       "    }\n",
       "\n",
       "    .dataframe thead th {\n",
       "        text-align: right;\n",
       "    }\n",
       "</style>\n",
       "<table border=\"1\" class=\"dataframe\">\n",
       "  <thead>\n",
       "    <tr style=\"text-align: right;\">\n",
       "      <th></th>\n",
       "      <th>rate_code_id</th>\n",
       "      <th>RatecodeID</th>\n",
       "      <th>rate_code_name</th>\n",
       "    </tr>\n",
       "  </thead>\n",
       "  <tbody>\n",
       "    <tr>\n",
       "      <th>0</th>\n",
       "      <td>0</td>\n",
       "      <td>1.0</td>\n",
       "      <td>Standard rate</td>\n",
       "    </tr>\n",
       "    <tr>\n",
       "      <th>1</th>\n",
       "      <td>1</td>\n",
       "      <td>2.0</td>\n",
       "      <td>JFK</td>\n",
       "    </tr>\n",
       "    <tr>\n",
       "      <th>2</th>\n",
       "      <td>2</td>\n",
       "      <td>4.0</td>\n",
       "      <td>Nassau or Westchester</td>\n",
       "    </tr>\n",
       "    <tr>\n",
       "      <th>3</th>\n",
       "      <td>3</td>\n",
       "      <td>99.0</td>\n",
       "      <td>NaN</td>\n",
       "    </tr>\n",
       "    <tr>\n",
       "      <th>4</th>\n",
       "      <td>4</td>\n",
       "      <td>5.0</td>\n",
       "      <td>Negotiated fare</td>\n",
       "    </tr>\n",
       "  </tbody>\n",
       "</table>\n",
       "</div>"
      ],
      "text/plain": [
       "   rate_code_id  RatecodeID         rate_code_name\n",
       "0             0         1.0          Standard rate\n",
       "1             1         2.0                    JFK\n",
       "2             2         4.0  Nassau or Westchester\n",
       "3             3        99.0                    NaN\n",
       "4             4         5.0        Negotiated fare"
      ]
     },
     "execution_count": 12,
     "metadata": {},
     "output_type": "execute_result"
    }
   ],
   "source": [
    "rate_code_type = {\n",
    "    1:\"Standard rate\",\n",
    "    2:\"JFK\",\n",
    "    3:\"Newark\",\n",
    "    4:\"Nassau or Westchester\",\n",
    "    5:\"Negotiated fare\",\n",
    "    6:\"Group ride\"\n",
    "}\n",
    "\n",
    "rate_code_dim = combined_df_yellow2[['RatecodeID']].drop_duplicates().reset_index(drop=True)\n",
    "rate_code_dim['rate_code_id'] = rate_code_dim.index\n",
    "rate_code_dim['rate_code_name'] = rate_code_dim['RatecodeID'].map(rate_code_type)\n",
    "rate_code_dim = rate_code_dim[['rate_code_id','RatecodeID','rate_code_name']]\n",
    "rate_code_dim.head()"
   ]
  },
  {
   "cell_type": "code",
   "execution_count": 13,
   "id": "9beef2e9",
   "metadata": {},
   "outputs": [
    {
     "data": {
      "text/html": [
       "<div>\n",
       "<style scoped>\n",
       "    .dataframe tbody tr th:only-of-type {\n",
       "        vertical-align: middle;\n",
       "    }\n",
       "\n",
       "    .dataframe tbody tr th {\n",
       "        vertical-align: top;\n",
       "    }\n",
       "\n",
       "    .dataframe thead th {\n",
       "        text-align: right;\n",
       "    }\n",
       "</style>\n",
       "<table border=\"1\" class=\"dataframe\">\n",
       "  <thead>\n",
       "    <tr style=\"text-align: right;\">\n",
       "      <th></th>\n",
       "      <th>payment_type_id</th>\n",
       "      <th>payment_type</th>\n",
       "      <th>payment_type_name</th>\n",
       "    </tr>\n",
       "  </thead>\n",
       "  <tbody>\n",
       "    <tr>\n",
       "      <th>0</th>\n",
       "      <td>0</td>\n",
       "      <td>2</td>\n",
       "      <td>Cash</td>\n",
       "    </tr>\n",
       "    <tr>\n",
       "      <th>1</th>\n",
       "      <td>1</td>\n",
       "      <td>1</td>\n",
       "      <td>Credit card</td>\n",
       "    </tr>\n",
       "    <tr>\n",
       "      <th>2</th>\n",
       "      <td>2</td>\n",
       "      <td>4</td>\n",
       "      <td>Dispute</td>\n",
       "    </tr>\n",
       "    <tr>\n",
       "      <th>3</th>\n",
       "      <td>3</td>\n",
       "      <td>3</td>\n",
       "      <td>No charge</td>\n",
       "    </tr>\n",
       "    <tr>\n",
       "      <th>4</th>\n",
       "      <td>4</td>\n",
       "      <td>0</td>\n",
       "      <td>NaN</td>\n",
       "    </tr>\n",
       "  </tbody>\n",
       "</table>\n",
       "</div>"
      ],
      "text/plain": [
       "   payment_type_id  payment_type payment_type_name\n",
       "0                0             2              Cash\n",
       "1                1             1       Credit card\n",
       "2                2             4           Dispute\n",
       "3                3             3         No charge\n",
       "4                4             0               NaN"
      ]
     },
     "execution_count": 13,
     "metadata": {},
     "output_type": "execute_result"
    }
   ],
   "source": [
    "payment_type_name = {\n",
    "    1:\"Credit card\",\n",
    "    2:\"Cash\",\n",
    "    3:\"No charge\",\n",
    "    4:\"Dispute\",\n",
    "    5:\"Unknown\",\n",
    "    6:\"Voided trip\"\n",
    "}\n",
    "payment_type_dim = combined_df_yellow2[['payment_type']].drop_duplicates().reset_index(drop=True)\n",
    "payment_type_dim['payment_type_id'] = payment_type_dim.index\n",
    "payment_type_dim['payment_type_name'] = payment_type_dim['payment_type'].map(payment_type_name)\n",
    "payment_type_dim = payment_type_dim[['payment_type_id','payment_type','payment_type_name']]\n",
    "payment_type_dim.head()"
   ]
  },
  {
   "cell_type": "code",
   "execution_count": 15,
   "id": "b5fbaea7",
   "metadata": {},
   "outputs": [],
   "source": [
    "# Optimize data types\n",
    "def optimize_dtypes(df):\n",
    "    for col in df.select_dtypes(include=['int64']).columns:\n",
    "        df[col] = pd.to_numeric(df[col], downcast='integer')\n",
    "    for col in df.select_dtypes(include=['float64']).columns:\n",
    "        df[col] = pd.to_numeric(df[col], downcast='float')\n",
    "    return df\n",
    "\n",
    "# Apply to all datasets\n",
    "combined_df_yellow2 = optimize_dtypes(combined_df_yellow2)\n",
    "rate_code_dim = optimize_dtypes(rate_code_dim)\n",
    "datetime_dim_y = optimize_dtypes(datetime_dim_y)\n",
    "payment_type_dim = optimize_dtypes(payment_type_dim)"
   ]
  },
  {
   "cell_type": "code",
   "execution_count": 16,
   "id": "9bcfe657",
   "metadata": {},
   "outputs": [
    {
     "name": "stdout",
     "output_type": "stream",
     "text": [
      "Data exported successfully!\n"
     ]
    }
   ],
   "source": [
    "import pandas as pd\n",
    "\n",
    "# Assuming rate_code_dim, datetime_dim_y, payment_type_dim are your DataFrame objects\n",
    "# Save to CSV files in your local directory\n",
    "\n",
    "rate_code_dim.to_csv(r'C:\\Users\\HP\\Downloads\\Documents\\rate_code_dim.csv', index=False)\n",
    "datetime_dim_y.to_csv(r'C:\\Users\\HP\\Downloads\\Documents\\datetime_dim_y.csv', index=False)\n",
    "payment_type_dim.to_csv(r'C:\\Users\\HP\\Downloads\\Documents\\payment_type_dim.csv', index=False)\n",
    "\n",
    "print(\"Data exported successfully!\")\n"
   ]
  },
  {
   "cell_type": "code",
   "execution_count": 17,
   "id": "af7b65f4",
   "metadata": {},
   "outputs": [
    {
     "name": "stdout",
     "output_type": "stream",
     "text": [
      "Converted datetime_dim_y to datetime_dim_y.parquet\n"
     ]
    }
   ],
   "source": [
    "import pandas as pd\n",
    "\n",
    "\n",
    "\n",
    "# Save the DataFrame as a Parquet file\n",
    "parquet_file = \"datetime_dim_y.parquet\"\n",
    "datetime_dim_y.to_parquet(parquet_file, engine='pyarrow', index=False)  # Use 'fastparquet' instead of 'pyarrow' if preferred\n",
    "\n",
    "print(f\"Converted datetime_dim_y to {parquet_file}\")"
   ]
  },
  {
   "cell_type": "code",
   "execution_count": 18,
   "id": "42430a71",
   "metadata": {},
   "outputs": [
    {
     "name": "stdout",
     "output_type": "stream",
     "text": [
      "File saved to C:\\Users\\HP\\Downloads\\Documents\\datetime_dim_y.parquet\n"
     ]
    }
   ],
   "source": [
    "import shutil\n",
    "\n",
    "# Path to the Parquet file in your Jupyter Notebook environment\n",
    "source_path = \"datetime_dim_y.parquet\"\n",
    "\n",
    "# Destination path on your local computer\n",
    "destination_path = r\"C:\\Users\\HP\\Downloads\\Documents\\datetime_dim_y.parquet\"\n",
    "\n",
    "# Copy the file to the desired location\n",
    "shutil.copy(source_path, destination_path)\n",
    "\n",
    "print(f\"File saved to {destination_path}\")\n"
   ]
  },
  {
   "cell_type": "code",
   "execution_count": null,
   "id": "444c361c",
   "metadata": {},
   "outputs": [],
   "source": []
  }
 ],
 "metadata": {
  "kernelspec": {
   "display_name": "Python 3 (ipykernel)",
   "language": "python",
   "name": "python3"
  },
  "language_info": {
   "codemirror_mode": {
    "name": "ipython",
    "version": 3
   },
   "file_extension": ".py",
   "mimetype": "text/x-python",
   "name": "python",
   "nbconvert_exporter": "python",
   "pygments_lexer": "ipython3",
   "version": "3.9.13"
  }
 },
 "nbformat": 4,
 "nbformat_minor": 5
}
